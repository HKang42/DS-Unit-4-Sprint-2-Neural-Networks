{
 "cells": [
  {
   "cell_type": "markdown",
   "metadata": {
    "colab_type": "text",
    "id": "41TS0Sa0rDNx"
   },
   "source": [
    "Lambda School Data Science\n",
    "\n",
    "*Unit 4, Sprint 2, Module 4*\n",
    "\n",
    "---"
   ]
  },
  {
   "cell_type": "markdown",
   "metadata": {
    "colab_type": "text",
    "id": "41TS0Sa0rDNx"
   },
   "source": [
    "# Neural Networks & GPUs (Prepare)\n",
    "*aka Hyperparameter Tuning*\n",
    "\n",
    "*aka Big Servers for Big Problems*"
   ]
  },
  {
   "cell_type": "markdown",
   "metadata": {
    "colab_type": "text",
    "id": "41TS0Sa0rDNx"
   },
   "source": [
    "## Learning Objectives\n",
    "* <a href=\"#p1\">Part 1</a>: Describe the major hyperparemeters to tune\n",
    "* <a href=\"#p2\">Part 2</a>: Implement an experiment tracking framework\n",
    "* <a href=\"#p3\">Part 3</a>: Search the hyperparameter space using RandomSearch (Optional)"
   ]
  },
  {
   "cell_type": "code",
   "execution_count": 39,
   "metadata": {},
   "outputs": [],
   "source": [
    "wandb_group = \"ds8\"\n",
    "wandb_project = \"ds13_inclass\"\n"
   ]
  },
  {
   "cell_type": "code",
   "execution_count": 40,
   "metadata": {},
   "outputs": [],
   "source": [
    "# !pip install wandb"
   ]
  },
  {
   "cell_type": "code",
   "execution_count": 41,
   "metadata": {},
   "outputs": [
    {
     "name": "stdout",
     "output_type": "stream",
     "text": [
      "Successfully logged in to Weights & Biases!\n"
     ]
    },
    {
     "name": "stderr",
     "output_type": "stream",
     "text": [
      "wandb: Appending key for api.wandb.ai to your netrc file: C:\\Users\\hkang/.netrc\n"
     ]
    }
   ],
   "source": [
    "! wandb login c89cc6fde6607ee05103a15f1daba325bfd50883"
   ]
  },
  {
   "cell_type": "markdown",
   "metadata": {},
   "source": [
    "# Hyperparameter Options (Learn)\n",
    "<a id=\"p1\"></a>"
   ]
  },
  {
   "cell_type": "markdown",
   "metadata": {},
   "source": [
    "## Overview\n",
    "\n",
    "Hyperparameter tuning is much more important with neural networks than it has been with any other models that we have considered up to this point. Other supervised learning models might have a couple of parameters, but neural networks can have dozens. These can substantially affect the accuracy of our models and although it can be a time consuming process is a necessary step when working with neural networks.\n",
    "​\n",
    "Hyperparameter tuning comes with a challenge. How can we compare models specified with different hyperparameters if our model's final error metric can vary somewhat erratically? How do we avoid just getting unlucky and selecting the wrong hyperparameter? This is a problem that to a certain degree we just have to live with as we test and test again. However, we can minimize it somewhat by pairing our experiments with Cross Validation to reduce the variance of our final accuracy values."
   ]
  },
  {
   "cell_type": "markdown",
   "metadata": {
    "colab_type": "text",
    "id": "0s0o2pqBs88q"
   },
   "source": [
    "### Load Boston Housing Data"
   ]
  },
  {
   "cell_type": "code",
   "execution_count": 42,
   "metadata": {},
   "outputs": [
    {
     "data": {
      "text/plain": [
       "array([  1.23247,   0.     ,   8.14   ,   0.     ,   0.538  ,   6.142  ,\n",
       "        91.7    ,   3.9769 ,   4.     , 307.     ,  21.     , 396.9    ,\n",
       "        18.72   ])"
      ]
     },
     "execution_count": 42,
     "metadata": {},
     "output_type": "execute_result"
    }
   ],
   "source": [
    "from tensorflow.keras.datasets import boston_housing\n",
    "\n",
    "(x_train, y_train), (x_test, y_test) = boston_housing.load_data()\n",
    "x_train[0]"
   ]
  },
  {
   "cell_type": "markdown",
   "metadata": {
    "colab_type": "text",
    "id": "Pm7zow5IvaTt"
   },
   "source": [
    "### Normalizing Input Data\n",
    "\n",
    "It's not 100% necessary to normalize/scale your input data before feeding it to a neural network, the network can learn the appropriate weights to deal with data of as long as it is numerically represented,  but it is recommended as it can help **make training faster** and **reduces the chances that gradient descent might get stuck in a local optimum**.\n",
    "\n",
    "<https://stackoverflow.com/questions/4674623/why-do-we-have-to-normalize-the-input-for-an-artificial-neural-network>"
   ]
  },
  {
   "cell_type": "code",
   "execution_count": 43,
   "metadata": {},
   "outputs": [
    {
     "name": "stdout",
     "output_type": "stream",
     "text": [
      "[[-0.27224633 -0.48361547 -0.43576161 -0.25683275 -0.1652266  -0.1764426\n",
      "   0.81306188  0.1166983  -0.62624905 -0.59517003  1.14850044  0.44807713\n",
      "   0.8252202 ]\n",
      " [-0.40342651  2.99178419 -1.33391162 -0.25683275 -1.21518188  1.89434613\n",
      "  -1.91036058  1.24758524 -0.85646254 -0.34843254 -1.71818909  0.43190599\n",
      "  -1.32920239]\n",
      " [ 0.1249402  -0.48361547  1.0283258  -0.25683275  0.62864202 -1.82968811\n",
      "   1.11048828 -1.18743907  1.67588577  1.5652875   0.78447637  0.22061726\n",
      "  -1.30850006]\n",
      " [-0.40149354 -0.48361547 -0.86940196 -0.25683275 -0.3615597  -0.3245576\n",
      "  -1.23667187  1.10717989 -0.51114231 -1.094663    0.78447637  0.44807713\n",
      "  -0.65292624]\n",
      " [-0.0056343  -0.48361547  1.0283258  -0.25683275  1.32861221  0.15364225\n",
      "   0.69480801 -0.57857203  1.67588577  1.5652875   0.78447637  0.3898823\n",
      "   0.26349695]\n",
      " [-0.37502238 -0.48361547 -0.54747912 -0.25683275 -0.54935658 -0.78865126\n",
      "   0.18954148  0.48371503 -0.51114231 -0.71552978  0.51145832  0.38669063\n",
      "  -0.13812828]\n",
      " [ 0.58963463 -0.48361547  1.0283258  -0.25683275  1.21764133 -1.03127774\n",
      "   1.11048828 -1.06518235  1.67588577  1.5652875   0.78447637  0.44807713\n",
      "   1.49873604]\n",
      " [ 0.0381708  -0.48361547  1.24588095 -0.25683275  2.67733525 -1.12719983\n",
      "   1.11048828 -1.14833073 -0.51114231 -0.01744323 -1.71818909  0.44807713\n",
      "   1.88793986]\n",
      " [-0.17228416 -0.48361547  1.24588095 -0.25683275  2.67733525 -0.90150078\n",
      "   1.11048828 -1.09664657 -0.51114231 -0.01744323 -1.71818909 -1.97365769\n",
      "   0.53952803]\n",
      " [-0.22932104 -0.48361547  1.58544339 -0.25683275  0.56888847 -1.76056777\n",
      "   1.11048828 -1.13471925 -0.62624905  0.18716835  1.23950646  0.44807713\n",
      "   2.99068404]]\n"
     ]
    }
   ],
   "source": [
    "from sklearn.preprocessing import StandardScaler\n",
    "\n",
    "scaler = StandardScaler()\n",
    "\n",
    "x_train = scaler.fit_transform(x_train)\n",
    "x_test = scaler.transform(x_test)\n",
    "print(x_train[:10])"
   ]
  },
  {
   "cell_type": "code",
   "execution_count": 44,
   "metadata": {},
   "outputs": [
    {
     "data": {
      "text/plain": [
       "array([-0.27224633, -0.48361547, -0.43576161, -0.25683275, -0.1652266 ,\n",
       "       -0.1764426 ,  0.81306188,  0.1166983 , -0.62624905, -0.59517003,\n",
       "        1.14850044,  0.44807713,  0.8252202 ])"
      ]
     },
     "execution_count": 44,
     "metadata": {},
     "output_type": "execute_result"
    }
   ],
   "source": [
    "x_train[0]"
   ]
  },
  {
   "cell_type": "markdown",
   "metadata": {
    "colab_type": "text",
    "id": "l6hgCWbir90R"
   },
   "source": [
    "### Model Validation using an automatic verification Dataset\n",
    "\n",
    "Instead of doing seperate train test split class, Keras has a really nice feature that you can set the validation.data argument when fitting your model and Keras will take that portion of your test data and use it as a validation dataset. "
   ]
  },
  {
   "cell_type": "code",
   "execution_count": 45,
   "metadata": {
    "colab": {
     "base_uri": "https://localhost:8080/",
     "height": 1750
    },
    "colab_type": "code",
    "id": "GMXVfmzXp1Oo",
    "outputId": "b05e251e-508f-46e6-865b-f869ae2a5dc4"
   },
   "outputs": [
    {
     "name": "stdout",
     "output_type": "stream",
     "text": [
      "Epoch 1/75\n",
      "41/41 [==============================] - 0s 5ms/step - loss: 499.4221 - mse: 499.4221 - mae: 20.3564 - val_loss: 404.0442 - val_mse: 404.0442 - val_mae: 18.0535\n",
      "Epoch 2/75\n",
      "41/41 [==============================] - 0s 2ms/step - loss: 241.2613 - mse: 241.2613 - mae: 12.9951 - val_loss: 114.7585 - val_mse: 114.7585 - val_mae: 8.4981\n",
      "Epoch 3/75\n",
      "41/41 [==============================] - 0s 2ms/step - loss: 67.6690 - mse: 67.6690 - mae: 6.0378 - val_loss: 51.6744 - val_mse: 51.6744 - val_mae: 5.6762\n",
      "Epoch 4/75\n",
      "41/41 [==============================] - 0s 2ms/step - loss: 34.5898 - mse: 34.5898 - mae: 4.2709 - val_loss: 33.7202 - val_mse: 33.7202 - val_mae: 4.6411\n",
      "Epoch 5/75\n",
      "41/41 [==============================] - 0s 2ms/step - loss: 24.8655 - mse: 24.8655 - mae: 3.5867 - val_loss: 27.0628 - val_mse: 27.0628 - val_mae: 4.1082\n",
      "Epoch 6/75\n",
      "41/41 [==============================] - 0s 2ms/step - loss: 21.9215 - mse: 21.9215 - mae: 3.3412 - val_loss: 24.6170 - val_mse: 24.6170 - val_mae: 3.7924\n",
      "Epoch 7/75\n",
      "41/41 [==============================] - 0s 2ms/step - loss: 19.0055 - mse: 19.0055 - mae: 3.0646 - val_loss: 23.7991 - val_mse: 23.7991 - val_mae: 3.7808\n",
      "Epoch 8/75\n",
      "41/41 [==============================] - 0s 2ms/step - loss: 17.2788 - mse: 17.2788 - mae: 2.9367 - val_loss: 22.4178 - val_mse: 22.4178 - val_mae: 3.6093\n",
      "Epoch 9/75\n",
      "41/41 [==============================] - 0s 2ms/step - loss: 16.1051 - mse: 16.1051 - mae: 2.8221 - val_loss: 21.5002 - val_mse: 21.5002 - val_mae: 3.4767\n",
      "Epoch 10/75\n",
      "41/41 [==============================] - 0s 2ms/step - loss: 14.9193 - mse: 14.9193 - mae: 2.7474 - val_loss: 21.7338 - val_mse: 21.7338 - val_mae: 3.4730\n",
      "Epoch 11/75\n",
      "41/41 [==============================] - 0s 2ms/step - loss: 14.0672 - mse: 14.0672 - mae: 2.6472 - val_loss: 22.6677 - val_mse: 22.6677 - val_mae: 3.4956\n",
      "Epoch 12/75\n",
      "41/41 [==============================] - 0s 2ms/step - loss: 13.2594 - mse: 13.2594 - mae: 2.6101 - val_loss: 21.9974 - val_mse: 21.9974 - val_mae: 3.4091\n",
      "Epoch 13/75\n",
      "41/41 [==============================] - 0s 2ms/step - loss: 12.7407 - mse: 12.7407 - mae: 2.5714 - val_loss: 21.9352 - val_mse: 21.9352 - val_mae: 3.3673\n",
      "Epoch 14/75\n",
      "41/41 [==============================] - 0s 2ms/step - loss: 12.3284 - mse: 12.3284 - mae: 2.4739 - val_loss: 22.7698 - val_mse: 22.7698 - val_mae: 3.4013\n",
      "Epoch 15/75\n",
      "41/41 [==============================] - 0s 2ms/step - loss: 11.8983 - mse: 11.8983 - mae: 2.4927 - val_loss: 20.7881 - val_mse: 20.7881 - val_mae: 3.1989\n",
      "Epoch 16/75\n",
      "41/41 [==============================] - 0s 2ms/step - loss: 11.3156 - mse: 11.3156 - mae: 2.4054 - val_loss: 23.4074 - val_mse: 23.4074 - val_mae: 3.3813\n",
      "Epoch 17/75\n",
      "41/41 [==============================] - 0s 2ms/step - loss: 11.0733 - mse: 11.0733 - mae: 2.3863 - val_loss: 22.4600 - val_mse: 22.4600 - val_mae: 3.2638\n",
      "Epoch 18/75\n",
      "41/41 [==============================] - 0s 2ms/step - loss: 10.8315 - mse: 10.8315 - mae: 2.3580 - val_loss: 23.3166 - val_mse: 23.3166 - val_mae: 3.3082\n",
      "Epoch 19/75\n",
      "41/41 [==============================] - 0s 2ms/step - loss: 10.4927 - mse: 10.4927 - mae: 2.3237 - val_loss: 23.6570 - val_mse: 23.6570 - val_mae: 3.3095\n",
      "Epoch 20/75\n",
      "41/41 [==============================] - 0s 2ms/step - loss: 10.3678 - mse: 10.3678 - mae: 2.3257 - val_loss: 22.8770 - val_mse: 22.8770 - val_mae: 3.1956\n",
      "Epoch 21/75\n",
      "41/41 [==============================] - 0s 2ms/step - loss: 10.4728 - mse: 10.4728 - mae: 2.3461 - val_loss: 23.3180 - val_mse: 23.3180 - val_mae: 3.2518\n",
      "Epoch 22/75\n",
      "41/41 [==============================] - 0s 2ms/step - loss: 10.0615 - mse: 10.0615 - mae: 2.2670 - val_loss: 24.3615 - val_mse: 24.3615 - val_mae: 3.2606\n",
      "Epoch 23/75\n",
      "41/41 [==============================] - 0s 2ms/step - loss: 9.5281 - mse: 9.5281 - mae: 2.2424 - val_loss: 21.9286 - val_mse: 21.9286 - val_mae: 3.1640\n",
      "Epoch 24/75\n",
      "41/41 [==============================] - 0s 2ms/step - loss: 9.6478 - mse: 9.6478 - mae: 2.1916 - val_loss: 22.3802 - val_mse: 22.3802 - val_mae: 3.1812\n",
      "Epoch 25/75\n",
      "41/41 [==============================] - 0s 2ms/step - loss: 9.2550 - mse: 9.2550 - mae: 2.1642 - val_loss: 22.7018 - val_mse: 22.7018 - val_mae: 3.1232\n",
      "Epoch 26/75\n",
      "41/41 [==============================] - 0s 2ms/step - loss: 9.0427 - mse: 9.0427 - mae: 2.1733 - val_loss: 22.4909 - val_mse: 22.4909 - val_mae: 3.1476\n",
      "Epoch 27/75\n",
      "41/41 [==============================] - 0s 2ms/step - loss: 9.0801 - mse: 9.0801 - mae: 2.1570 - val_loss: 21.7951 - val_mse: 21.7951 - val_mae: 3.0384\n",
      "Epoch 28/75\n",
      "41/41 [==============================] - 0s 2ms/step - loss: 8.8880 - mse: 8.8880 - mae: 2.1264 - val_loss: 22.1669 - val_mse: 22.1669 - val_mae: 3.0876\n",
      "Epoch 29/75\n",
      "41/41 [==============================] - 0s 2ms/step - loss: 8.6037 - mse: 8.6037 - mae: 2.0820 - val_loss: 23.4280 - val_mse: 23.4280 - val_mae: 3.2170\n",
      "Epoch 30/75\n",
      "41/41 [==============================] - 0s 2ms/step - loss: 8.5598 - mse: 8.5598 - mae: 2.0945 - val_loss: 22.5939 - val_mse: 22.5939 - val_mae: 3.0623\n",
      "Epoch 31/75\n",
      "41/41 [==============================] - 0s 2ms/step - loss: 8.4657 - mse: 8.4657 - mae: 2.1039 - val_loss: 21.6231 - val_mse: 21.6231 - val_mae: 3.0212\n",
      "Epoch 32/75\n",
      "41/41 [==============================] - 0s 2ms/step - loss: 8.2357 - mse: 8.2357 - mae: 2.0325 - val_loss: 21.3539 - val_mse: 21.3539 - val_mae: 2.9593\n",
      "Epoch 33/75\n",
      "41/41 [==============================] - 0s 2ms/step - loss: 7.9866 - mse: 7.9866 - mae: 2.0541 - val_loss: 20.8598 - val_mse: 20.8598 - val_mae: 3.0690\n",
      "Epoch 34/75\n",
      "41/41 [==============================] - 0s 2ms/step - loss: 8.1625 - mse: 8.1625 - mae: 2.0286 - val_loss: 22.7150 - val_mse: 22.7150 - val_mae: 3.2053\n",
      "Epoch 35/75\n",
      "41/41 [==============================] - 0s 2ms/step - loss: 7.9187 - mse: 7.9187 - mae: 2.0195 - val_loss: 21.7190 - val_mse: 21.7190 - val_mae: 2.9002\n",
      "Epoch 36/75\n",
      "41/41 [==============================] - 0s 2ms/step - loss: 7.8608 - mse: 7.8608 - mae: 2.0173 - val_loss: 20.4840 - val_mse: 20.4840 - val_mae: 2.8528\n",
      "Epoch 37/75\n",
      "41/41 [==============================] - 0s 2ms/step - loss: 7.7551 - mse: 7.7551 - mae: 1.9780 - val_loss: 20.0767 - val_mse: 20.0767 - val_mae: 2.8129\n",
      "Epoch 38/75\n",
      "41/41 [==============================] - 0s 2ms/step - loss: 7.5904 - mse: 7.5904 - mae: 1.9571 - val_loss: 21.4644 - val_mse: 21.4644 - val_mae: 2.9295\n",
      "Epoch 39/75\n",
      "41/41 [==============================] - 0s 2ms/step - loss: 7.5813 - mse: 7.5813 - mae: 1.9560 - val_loss: 21.4009 - val_mse: 21.4009 - val_mae: 2.9736\n",
      "Epoch 40/75\n",
      "41/41 [==============================] - 0s 2ms/step - loss: 7.3036 - mse: 7.3036 - mae: 1.9433 - val_loss: 19.5186 - val_mse: 19.5186 - val_mae: 2.7964\n",
      "Epoch 41/75\n",
      "41/41 [==============================] - 0s 2ms/step - loss: 7.6363 - mse: 7.6363 - mae: 1.9737 - val_loss: 20.3478 - val_mse: 20.3478 - val_mae: 2.8603\n",
      "Epoch 42/75\n",
      "41/41 [==============================] - 0s 2ms/step - loss: 7.3015 - mse: 7.3015 - mae: 1.9240 - val_loss: 20.5978 - val_mse: 20.5978 - val_mae: 2.8682\n",
      "Epoch 43/75\n",
      "41/41 [==============================] - 0s 2ms/step - loss: 7.4716 - mse: 7.4716 - mae: 1.9649 - val_loss: 19.7419 - val_mse: 19.7419 - val_mae: 2.8096\n",
      "Epoch 44/75\n",
      "41/41 [==============================] - 0s 2ms/step - loss: 7.0887 - mse: 7.0887 - mae: 1.9135 - val_loss: 22.0227 - val_mse: 22.0227 - val_mae: 3.1148\n",
      "Epoch 45/75\n",
      "41/41 [==============================] - 0s 2ms/step - loss: 6.9209 - mse: 6.9209 - mae: 1.8855 - val_loss: 19.7910 - val_mse: 19.7910 - val_mae: 2.8125\n",
      "Epoch 46/75\n",
      "41/41 [==============================] - 0s 2ms/step - loss: 7.0923 - mse: 7.0923 - mae: 1.9068 - val_loss: 20.5704 - val_mse: 20.5704 - val_mae: 2.8736\n",
      "Epoch 47/75\n",
      "41/41 [==============================] - 0s 2ms/step - loss: 6.7118 - mse: 6.7118 - mae: 1.8446 - val_loss: 20.5278 - val_mse: 20.5278 - val_mae: 2.8386\n",
      "Epoch 48/75\n",
      "41/41 [==============================] - 0s 2ms/step - loss: 6.6041 - mse: 6.6041 - mae: 1.8387 - val_loss: 18.8839 - val_mse: 18.8839 - val_mae: 2.8847\n",
      "Epoch 49/75\n",
      "41/41 [==============================] - 0s 2ms/step - loss: 6.7760 - mse: 6.7760 - mae: 1.8636 - val_loss: 18.2891 - val_mse: 18.2891 - val_mae: 2.7461\n",
      "Epoch 50/75\n",
      "41/41 [==============================] - 0s 2ms/step - loss: 6.6601 - mse: 6.6601 - mae: 1.8416 - val_loss: 18.1410 - val_mse: 18.1410 - val_mae: 2.7453\n",
      "Epoch 51/75\n",
      "41/41 [==============================] - 0s 2ms/step - loss: 6.5656 - mse: 6.5656 - mae: 1.8476 - val_loss: 18.3070 - val_mse: 18.3070 - val_mae: 2.7886\n",
      "Epoch 52/75\n",
      "41/41 [==============================] - 0s 2ms/step - loss: 6.7134 - mse: 6.7134 - mae: 1.8359 - val_loss: 18.7435 - val_mse: 18.7435 - val_mae: 2.7330\n",
      "Epoch 53/75\n",
      "41/41 [==============================] - 0s 2ms/step - loss: 6.3521 - mse: 6.3521 - mae: 1.8145 - val_loss: 18.6210 - val_mse: 18.6210 - val_mae: 2.7111\n",
      "Epoch 54/75\n",
      "41/41 [==============================] - 0s 2ms/step - loss: 6.2635 - mse: 6.2635 - mae: 1.8097 - val_loss: 18.1060 - val_mse: 18.1060 - val_mae: 2.6821\n",
      "Epoch 55/75\n",
      "41/41 [==============================] - 0s 2ms/step - loss: 6.2565 - mse: 6.2565 - mae: 1.7868 - val_loss: 19.6088 - val_mse: 19.6088 - val_mae: 2.8207\n",
      "Epoch 56/75\n",
      "41/41 [==============================] - 0s 2ms/step - loss: 6.1292 - mse: 6.1292 - mae: 1.7722 - val_loss: 18.0640 - val_mse: 18.0640 - val_mae: 2.7126\n",
      "Epoch 57/75\n",
      "41/41 [==============================] - 0s 2ms/step - loss: 6.0175 - mse: 6.0175 - mae: 1.7843 - val_loss: 18.8978 - val_mse: 18.8978 - val_mae: 2.7727\n",
      "Epoch 58/75\n",
      "41/41 [==============================] - 0s 2ms/step - loss: 5.9741 - mse: 5.9741 - mae: 1.7801 - val_loss: 17.6967 - val_mse: 17.6967 - val_mae: 2.6846\n",
      "Epoch 59/75\n",
      "41/41 [==============================] - 0s 2ms/step - loss: 5.8554 - mse: 5.8554 - mae: 1.7340 - val_loss: 16.6212 - val_mse: 16.6212 - val_mae: 2.6137\n",
      "Epoch 60/75\n",
      "41/41 [==============================] - 0s 2ms/step - loss: 5.7836 - mse: 5.7836 - mae: 1.7159 - val_loss: 18.0619 - val_mse: 18.0619 - val_mae: 2.7768\n",
      "Epoch 61/75\n",
      "41/41 [==============================] - 0s 2ms/step - loss: 5.8180 - mse: 5.8180 - mae: 1.7286 - val_loss: 18.4921 - val_mse: 18.4921 - val_mae: 2.7270\n",
      "Epoch 62/75\n",
      "41/41 [==============================] - 0s 2ms/step - loss: 5.7225 - mse: 5.7225 - mae: 1.7272 - val_loss: 17.2615 - val_mse: 17.2615 - val_mae: 2.6396\n",
      "Epoch 63/75\n",
      "41/41 [==============================] - 0s 2ms/step - loss: 5.6540 - mse: 5.6540 - mae: 1.7116 - val_loss: 16.9568 - val_mse: 16.9568 - val_mae: 2.6584\n",
      "Epoch 64/75\n",
      "41/41 [==============================] - 0s 2ms/step - loss: 5.4511 - mse: 5.4511 - mae: 1.6953 - val_loss: 16.3318 - val_mse: 16.3318 - val_mae: 2.5763\n",
      "Epoch 65/75\n",
      "41/41 [==============================] - 0s 2ms/step - loss: 5.4240 - mse: 5.4240 - mae: 1.6722 - val_loss: 17.3589 - val_mse: 17.3589 - val_mae: 2.6734\n",
      "Epoch 66/75\n",
      "41/41 [==============================] - 0s 2ms/step - loss: 5.6430 - mse: 5.6430 - mae: 1.7068 - val_loss: 18.3321 - val_mse: 18.3321 - val_mae: 2.7587\n",
      "Epoch 67/75\n",
      "41/41 [==============================] - 0s 2ms/step - loss: 5.3870 - mse: 5.3870 - mae: 1.6823 - val_loss: 16.6110 - val_mse: 16.6110 - val_mae: 2.5993\n",
      "Epoch 68/75\n",
      "41/41 [==============================] - 0s 2ms/step - loss: 5.1215 - mse: 5.1215 - mae: 1.6569 - val_loss: 16.0094 - val_mse: 16.0094 - val_mae: 2.5894\n",
      "Epoch 69/75\n",
      "41/41 [==============================] - 0s 2ms/step - loss: 5.4231 - mse: 5.4231 - mae: 1.6939 - val_loss: 15.3938 - val_mse: 15.3938 - val_mae: 2.5810\n",
      "Epoch 70/75\n",
      "41/41 [==============================] - 0s 2ms/step - loss: 5.1841 - mse: 5.1841 - mae: 1.6395 - val_loss: 16.0120 - val_mse: 16.0120 - val_mae: 2.6023\n",
      "Epoch 71/75\n",
      "41/41 [==============================] - 0s 2ms/step - loss: 5.2877 - mse: 5.2877 - mae: 1.6896 - val_loss: 15.9614 - val_mse: 15.9614 - val_mae: 2.6206\n",
      "Epoch 72/75\n",
      "41/41 [==============================] - 0s 2ms/step - loss: 4.9627 - mse: 4.9627 - mae: 1.6270 - val_loss: 16.4177 - val_mse: 16.4177 - val_mae: 2.6068\n",
      "Epoch 73/75\n",
      "41/41 [==============================] - 0s 2ms/step - loss: 5.2405 - mse: 5.2405 - mae: 1.6282 - val_loss: 15.3690 - val_mse: 15.3690 - val_mae: 2.5342\n",
      "Epoch 74/75\n",
      "41/41 [==============================] - 0s 2ms/step - loss: 4.8217 - mse: 4.8217 - mae: 1.5901 - val_loss: 16.3664 - val_mse: 16.3664 - val_mae: 2.5992\n",
      "Epoch 75/75\n",
      "41/41 [==============================] - 0s 2ms/step - loss: 5.0343 - mse: 5.0343 - mae: 1.6737 - val_loss: 16.2485 - val_mse: 16.2485 - val_mae: 2.6848\n"
     ]
    },
    {
     "data": {
      "text/plain": [
       "<tensorflow.python.keras.callbacks.History at 0x25560c59eb8>"
      ]
     },
     "execution_count": 45,
     "metadata": {},
     "output_type": "execute_result"
    }
   ],
   "source": [
    "from tensorflow import keras\n",
    "from tensorflow.keras.models import Sequential\n",
    "from tensorflow.keras.layers import Dense\n",
    "\n",
    "# Important Hyperparameters\n",
    "inputs = x_train.shape[1]\n",
    "epochs = 75\n",
    "batch_size = 10\n",
    "\n",
    "\n",
    "# Create Model\n",
    "model = Sequential()\n",
    "model.add(Dense(64, activation='relu', input_shape=(inputs,)))\n",
    "model.add(Dense(64, activation='relu'))\n",
    "model.add(Dense(1))\n",
    "\n",
    "# Compile Model\n",
    "model.compile(optimizer='adam', loss='mse', metrics=['mse', 'mae'])\n",
    "\n",
    "# Fit Model\n",
    "# We'll just specify the test set as the validation. A different option would \n",
    "# be to just define a percent of the training data\n",
    "model.fit(x_train, y_train, \n",
    "          validation_data=(x_test,y_test), \n",
    "          #validation_split = 0.2\n",
    "          epochs=epochs, \n",
    "          batch_size=batch_size\n",
    "         )"
   ]
  },
  {
   "cell_type": "markdown",
   "metadata": {
    "colab_type": "text",
    "id": "sYJ8t_ezHP4W"
   },
   "source": [
    "### Hyperparameter Tuning Approaches:\n",
    "\n",
    "#### 1) Babysitting AKA \"Grad Student Descent\".\n",
    "\n",
    "If you fiddled with any hyperparameters yesterday, this is basically what you did. This approach is 100% manual and is pretty common among researchers where finding that 1 exact specification that jumps your model to a level of accuracy never seen before is the difference between publishing and not publishing a paper. Of course the professors don't do this themselves, that's grunt work. This is also known as the fiddle with hyperparameters until you run out of time method.\n",
    "\n",
    "#### 2) Grid Search\n",
    "\n",
    "Grid Search is the Grad Student galaxy brain realization of: why don't I just specify all the experiments I want to run and let the computer try every possible combination of them while I go and grab lunch. This has a specific downside in that if I specify 5 hyperparameters with 5 options each then I've just created 5^5 combinations of hyperparameters to check. Which means that I have to train 3125 different versions of my model Then if I use 5-fold Cross Validation on that then my model has to run 15,525 times. This is the brute-force method of hyperparameter tuning, but it can be very profitable if done wisely. \n",
    "\n",
    "When using Grid Search here's what I suggest: don't use it to test combinations of different hyperparameters, only use it to test different specifications of **a single** hyperparameter. It's rare that combinations between different hyperparameters lead to big performance gains. You'll get 90-95% of the way there if you just Grid Search one parameter and take the best result, then retain that best result while you test another, and then retain the best specification from that while you train another. This at least makes the situation much more manageable and leads to pretty good results. \n",
    "\n",
    "#### 3) Random Search\n",
    "\n",
    "Do Grid Search for a couple of hours and you'll say to yourself - \"There's got to be a better way.\" Enter Random Search. For Random search you specify a hyperparameter space and it picks specifications from that randomly, tries them out, gives you the best results and says - That's going to have to be good enough, go home and spend time with your family. \n",
    "\n",
    "Grid Search treats every parameter as if it was equally important, but this just isn't the case, some are known to move the needle a lot more than others (we'll talk about that in a minute). Random Search allows searching to be specified along the most important parameter and experiments less along the dimensions of less important hyperparameters. The downside of Random search is that it won't find the absolute best hyperparameters, but it is much less costly to perform than Grid Search. \n",
    "\n",
    "#### 4) Bayesian Methods\n",
    "\n",
    "One thing that can make more manual methods like babysitting and gridsearch effective is that as the experimenter sees results he can then make updates to his future searches taking into account the results of past specifications. If only we could hyperparameter tune our hyperparameter tuning. Well, we kind of can. Enter Bayesian Optimization. Neural Networks are like an optimization problem within an optimization problem, and Bayesian Optimization is a search strategy that tries to take into account the results of past searches in order to improve future ones. Check out the new library `keras-tuner` for easy implementations of Bayesian methods. \n"
   ]
  },
  {
   "cell_type": "markdown",
   "metadata": {
    "colab_type": "text",
    "id": "HfQ7D043OMMn"
   },
   "source": [
    "## What Hyperparameters are there to test?\n",
    "\n",
    "- batch_size\n",
    "- training epochs\n",
    "- optimization algorithms\n",
    "- learning rate\n",
    "- momentum\n",
    "- activation functions\n",
    "- dropout regularization\n",
    "- number of neurons in the hidden layer\n",
    "\n",
    "There are more, but these are the most important."
   ]
  },
  {
   "cell_type": "markdown",
   "metadata": {},
   "source": [
    "## Follow Along"
   ]
  },
  {
   "cell_type": "markdown",
   "metadata": {
    "colab_type": "text",
    "id": "Mri5-kXzVKAa"
   },
   "source": [
    "## Batch Size\n",
    "\n",
    "Batch size determines how many observations the model is shown before it calculates loss/error and updates the model weights via gradient descent. You're looking for a sweet spot here where you're showing it enough observations that you have enough information to updates the weights, but not such a large batch size that you don't get a lot of weight update iterations performed in a given epoch. Feed-forward Neural Networks aren't as sensitive to bach_size as other networks, but it is still an important hyperparameter to tune. Smaller batch sizes will also take longer to train. \n",
    "\n",
    "Traditionally, batch size is set in powers of 2 starting at 32 up to 512. Keras defaults to a batch size of 32 if you do not specify it. Yann LeCun famously Twitted: \n",
    "\n",
    "> Training with large minibatches is bad for your health.\n",
    "More importantly, it's bad for your test error.\n",
    "Friends dont let friends use minibatches larger than 32.\n",
    "\n",
    "Check out this paper for more reference on his tweet. https://arxiv.org/abs/1804.07612. \n",
    "\n",
    "Check out this SO question on why batch size is typically set in powers of two: https://datascience.stackexchange.com/questions/20179/what-is-the-advantage-of-keeping-batch-size-a-power-of-2\n",
    "\n"
   ]
  },
  {
   "cell_type": "code",
   "execution_count": 46,
   "metadata": {
    "colab": {
     "base_uri": "https://localhost:8080/",
     "height": 13561
    },
    "colab_type": "code",
    "id": "2smXfriNAGn7",
    "outputId": "ae996575-78e2-43fb-9dbe-5d44aaf0b430"
   },
   "outputs": [
    {
     "name": "stdout",
     "output_type": "stream",
     "text": [
      "Best: 0.6939988255500793 using {'batch_size': 8, 'epochs': 20}\n",
      "Means: 0.6939988255500793, Stdev: 0.010366507312630394 with: {'batch_size': 8, 'epochs': 20}\n",
      "Means: 0.6367625832557678, Stdev: 0.0773051641458081 with: {'batch_size': 16, 'epochs': 20}\n",
      "Means: 0.6068160653114318, Stdev: 0.047452966790539335 with: {'batch_size': 32, 'epochs': 20}\n",
      "Means: 0.6171207904815674, Stdev: 0.06063264657926694 with: {'batch_size': 64, 'epochs': 20}\n",
      "Means: 0.5140565276145935, Stdev: 0.1009306858398485 with: {'batch_size': 128, 'epochs': 20}\n"
     ]
    }
   ],
   "source": [
    "import numpy\n",
    "import pandas as pd\n",
    "from sklearn.model_selection import GridSearchCV\n",
    "from tensorflow.keras.models import Sequential\n",
    "from tensorflow.keras.layers import Dense\n",
    "from tensorflow.keras.wrappers.scikit_learn import KerasClassifier\n",
    "\n",
    "# fix random seed for reproducibility\n",
    "seed = 7\n",
    "numpy.random.seed(seed)\n",
    "\n",
    "# load dataset\n",
    "url =\"https://raw.githubusercontent.com/jbrownlee/Datasets/master/pima-indians-diabetes.data.csv\"\n",
    "\n",
    "dataset = pd.read_csv(url, header=None).values\n",
    "\n",
    "# split into input (X) and output (Y) variables\n",
    "X = dataset[:,0:8]\n",
    "Y = dataset[:,8]\n",
    "\n",
    "# Function to create model, required for KerasClassifier\n",
    "def create_model():\n",
    "    # create model\n",
    "    model = Sequential()\n",
    "    model.add(Dense(12, input_dim=8, activation='relu'))\n",
    "    model.add(Dense(1, activation='sigmoid'))\n",
    "    # Compile model\n",
    "    model.compile(loss='binary_crossentropy', optimizer='adam', metrics=['accuracy'])\n",
    "    return model\n",
    "\n",
    "# create model\n",
    "model = KerasClassifier(build_fn=create_model, verbose=0)\n",
    "\n",
    "# define the grid search parameters\n",
    "# batch_size = [10, 20, 40, 60, 80, 100]\n",
    "# param_grid = dict(batch_size=batch_size, epochs=epochs)\n",
    "\n",
    "# define the grid search parameters\n",
    "param_grid = {'batch_size': [8, 16, 32, 64, 128],\n",
    "              'epochs': [20]}\n",
    "\n",
    "# Create Grid Search\n",
    "grid = GridSearchCV(estimator=model, param_grid=param_grid, n_jobs=1)\n",
    "grid_result = grid.fit(X, Y)\n",
    "\n",
    "# Report Results\n",
    "print(f\"Best: {grid_result.best_score_} using {grid_result.best_params_}\")\n",
    "means = grid_result.cv_results_['mean_test_score']\n",
    "stds = grid_result.cv_results_['std_test_score']\n",
    "params = grid_result.cv_results_['params']\n",
    "for mean, stdev, param in zip(means, stds, params):\n",
    "    print(f\"Means: {mean}, Stdev: {stdev} with: {param}\") "
   ]
  },
  {
   "cell_type": "markdown",
   "metadata": {
    "colab_type": "text",
    "id": "EKcuY6OiaLfz"
   },
   "source": [
    "## Optimizer\n",
    "\n",
    "Remember that there's a different optimizers [optimizers](https://keras.io/optimizers/). At some point, take some time to read up on them a little bit. \"adam\" usually gives the best results. The thing to know about choosing an optimizer is that different optimizers have different hyperparameters like learning rate, momentum, etc. So based on the optimizer you choose you might also have to tune the learning rate and momentum of those optimizers after that. "
   ]
  },
  {
   "cell_type": "markdown",
   "metadata": {
    "colab_type": "text",
    "id": "DG3wq5iOaLig"
   },
   "source": [
    "## Learning Rate\n",
    "\n",
    "Remember that the Learning Rate is a hyperparameter that is specific to your gradient-descent based optimizer selection. A learning rate that is too high will cause divergent behavior, but a Learning Rate that is too low will fail to converge, again, you're looking for the sweet spot. I would start out tuning learning rates by orders of magnitude: [.001, .01, .1, .2, .3, .5] etc. I wouldn't go above .5, but you can try it and see what the behavior is like. \n",
    "\n",
    "Once you have narrowed it down, make the window even smaller and try it again. If after running the above specification your model reports that .1 is the best optimizer, then you should probably try things like [.05, .08, .1, .12, .15] to try and narrow it down. \n",
    "\n",
    "It can also be good to tune the number of epochs in combination with the learning rate since the number of iterations that you allow the learning rate to reach the minimum can determine if you have let it run long enough to converge to the minimum. "
   ]
  },
  {
   "cell_type": "code",
   "execution_count": null,
   "metadata": {},
   "outputs": [],
   "source": []
  },
  {
   "cell_type": "markdown",
   "metadata": {
    "colab_type": "text",
    "id": "gNTBUWd1aLlA"
   },
   "source": [
    "## Momentum\n",
    "\n",
    "Momentum is a hyperparameter that is more commonly associated with Stochastic Gradient Descent. SGD is a common optimizer because it's what people understand and know, but I doubt it will get you the best results, you can try hyperparameter tuning its attributes and see if you can beat the performance from adam. Momentum is a property that decides the willingness of an optimizer to overshoot the minimum. Imagine a ball rolling down one side of a bowl and then up the opposite side a little bit before settling back to the bottom. The purpose of momentum is to try and escale local minima."
   ]
  },
  {
   "cell_type": "markdown",
   "metadata": {
    "colab_type": "text",
    "id": "xnEG-bCJaLnZ"
   },
   "source": [
    "## Activation Functions\n",
    "\n",
    "We've talked about this a little bit, typically you'l want to use ReLU for hidden layers and either Sigmoid, or Softmax for output layers of binary and multi-class classification implementations respectively, but try other activation functions and see if you can get any better results with sigmoid or tanh or something. There are a lot of activation functions that we haven't really talked about. Maybe you'll get good results with them. Maybe you won't. :) <https://keras.io/activations/>"
   ]
  },
  {
   "cell_type": "markdown",
   "metadata": {
    "colab_type": "text",
    "id": "oul9sPq-dU-h"
   },
   "source": [
    "## Network Weight Initialization\n",
    "\n",
    "You saw how big of an effect the way that we initialize our network's weights can have on our results. There are **a lot** of what are called initialization modes. I don't understand all of them, but they can have a big affect on your model's initial accuracy. Your model will get further with less epochs if you initialize it with weights that are well suited to the problem you're trying to solve.\n",
    "\n",
    "`init_mode = ['uniform', 'lecun_uniform', 'normal', 'zero', 'glorot_normal', 'glorot_uniform', 'he_normal', 'he_uniform']`"
   ]
  },
  {
   "cell_type": "markdown",
   "metadata": {
    "colab_type": "text",
    "id": "bqtEuxeQaLqE"
   },
   "source": [
    "## Dropout Regularization and the Weight Constraint\n",
    "\n",
    "the Dropout Regularization value is a percentage of neurons that you want to be randomly deactivated during training. The weight constraint is a second regularization parameter that works in tandem with dropout regularization. You should tune these two values at the same time. \n",
    "\n",
    "Using dropout on visible vs hidden layers might have a different effect. Using dropout on hidden layers might not have any effect while using dropout on hidden layers might have a substantial effect. You don't necessarily need to turn use dropout unless you see that your model has overfitting and generalizability problems."
   ]
  },
  {
   "cell_type": "markdown",
   "metadata": {
    "colab_type": "text",
    "id": "P2c5Cv6oaLtO"
   },
   "source": [
    "## Neurons in Hidden Layer \n",
    "\n",
    "Remember that when we only had a single perceptron our model was only able to fit to linearly separable data, but as we have added layers and nodes to those layers our network has become a powerhouse of fitting nonlinearity in data. The larger the network and the more nodes generally the stronger the network's capacity to fit nonlinear patterns in data. The more nodes and layers the longer it will take to train a network, and higher the probability of overfitting. The larger your network gets the more you'll need dropout regularization or other regularization techniques to keep it in check. \n",
    "\n",
    "Typically depth (more layers) is more important than width (more nodes) for neural networks. This is part of why Deep Learning is so highly touted. Certain deep learning architectures have truly been huge breakthroughs for certain machine learning tasks. \n",
    "\n",
    "You might borrow ideas from other network architectures. For example if I was doing image recognition and I wasn't taking cues from state of the art architectures like resnet, alexnet, googlenet, etc. Then I'm probably going to have to do a lot more experimentation on my own before I find something that works.\n",
    "\n",
    "There are some heuristics, but I am highly skeptical of them. I think you're better off experimenting on your own and forming your own intuition for these kinds of problems. \n",
    "\n",
    "- https://machinelearningmastery.com/how-to-configure-the-number-of-layers-and-nodes-in-a-neural-network/"
   ]
  },
  {
   "cell_type": "markdown",
   "metadata": {},
   "source": [
    "## Challenge\n",
    "You will be expected to tune several hyperparameters in today's module project. "
   ]
  },
  {
   "cell_type": "markdown",
   "metadata": {},
   "source": [
    "# Experiment Tracking Framework (Learn)\n",
    "<a id=\"p2\"></a>"
   ]
  },
  {
   "cell_type": "markdown",
   "metadata": {},
   "source": [
    "## Overview\n",
    "\n",
    "You will notice quickly that managing the results of all the experiments you are running becomes challenging. Which set of parameters did the best? Are my results today different than my results yesterday? Although we use Ipython Notebooks to work, the format is not well suited to logging experimental results. Enter experiment tracking frameworks like [Comet.ml](https://comet.ml) and [Weights and Biases](https://wandb.ai/).\n",
    "\n",
    "Those tools will help you track your experiments, store the results, and the code associated with those experiments. Experimental results can also be readily visualized to see changes in performance across any metric you care about. Data is sent to the tool as each epoch is completed, so you can also see if your model is converging. Let's check out Weights & Biases today. "
   ]
  },
  {
   "cell_type": "markdown",
   "metadata": {},
   "source": [
    "## Follow Along\n",
    "\n",
    "Make sure you login into `wandb` in the terminal before running the next cell. "
   ]
  },
  {
   "cell_type": "code",
   "execution_count": 47,
   "metadata": {},
   "outputs": [],
   "source": [
    "import wandb\n",
    "from wandb.keras import WandbCallback"
   ]
  },
  {
   "cell_type": "code",
   "execution_count": 48,
   "metadata": {},
   "outputs": [],
   "source": [
    "wandb_group = \"ds8\"\n",
    "wandb_project = \"ds13_inclass\""
   ]
  },
  {
   "cell_type": "code",
   "execution_count": 49,
   "metadata": {},
   "outputs": [],
   "source": [
    "from tensorflow.keras.optimizers import Adam\n",
    "\n",
    "lr = 0.001\n",
    "\n",
    "Opt_function = Adam(learning_rate = lr)"
   ]
  },
  {
   "cell_type": "code",
   "execution_count": 50,
   "metadata": {
    "colab": {
     "base_uri": "https://localhost:8080/",
     "height": 1750
    },
    "colab_type": "code",
    "id": "GMXVfmzXp1Oo",
    "outputId": "b05e251e-508f-46e6-865b-f869ae2a5dc4"
   },
   "outputs": [
    {
     "data": {
      "text/html": [
       "\n",
       "                Logging results to <a href=\"https://wandb.com\" target=\"_blank\">Weights & Biases</a> <a href=\"https://docs.wandb.com/integrations/jupyter.html\" target=\"_blank\">(Documentation)</a>.<br/>\n",
       "                Project page: <a href=\"https://app.wandb.ai/ds8/ds13_inclass\" target=\"_blank\">https://app.wandb.ai/ds8/ds13_inclass</a><br/>\n",
       "                Run page: <a href=\"https://app.wandb.ai/ds8/ds13_inclass/runs/3f7txjbh\" target=\"_blank\">https://app.wandb.ai/ds8/ds13_inclass/runs/3f7txjbh</a><br/>\n",
       "            "
      ],
      "text/plain": [
       "<IPython.core.display.HTML object>"
      ]
     },
     "metadata": {},
     "output_type": "display_data"
    },
    {
     "name": "stderr",
     "output_type": "stream",
     "text": [
      "Failed to query for notebook name, you can set it manually with the WANDB_NOTEBOOK_NAME environment variable\n",
      "wandb: Wandb version 0.8.36 is available!  To upgrade, please run:\n",
      "wandb:  $ pip install wandb --upgrade\n"
     ]
    },
    {
     "name": "stdout",
     "output_type": "stream",
     "text": [
      "Epoch 1/80\n",
      "17/17 [==============================] - 0s 10ms/step - loss: 532.7838 - mse: 532.7838 - mae: 21.3696 - val_loss: 580.8304 - val_mse: 580.8304 - val_mae: 22.0136\n",
      "Epoch 2/80\n",
      "17/17 [==============================] - 0s 6ms/step - loss: 435.7958 - mse: 435.7958 - mae: 19.0183 - val_loss: 423.5207 - val_mse: 423.5207 - val_mae: 18.2158\n",
      "Epoch 3/80\n",
      "17/17 [==============================] - 0s 6ms/step - loss: 236.8463 - mse: 236.8463 - mae: 13.0393 - val_loss: 150.9396 - val_mse: 150.9396 - val_mae: 9.6407\n",
      "Epoch 4/80\n",
      "17/17 [==============================] - 0s 6ms/step - loss: 60.0658 - mse: 60.0658 - mae: 6.0289 - val_loss: 72.9758 - val_mse: 72.9758 - val_mae: 6.5827\n",
      "Epoch 5/80\n",
      "17/17 [==============================] - 0s 7ms/step - loss: 40.7992 - mse: 40.7992 - mae: 4.7070 - val_loss: 52.0396 - val_mse: 52.0396 - val_mae: 5.0159\n",
      "Epoch 6/80\n",
      "17/17 [==============================] - 0s 7ms/step - loss: 26.9268 - mse: 26.9268 - mae: 3.7520 - val_loss: 39.3054 - val_mse: 39.3054 - val_mae: 4.2830\n",
      "Epoch 7/80\n",
      "17/17 [==============================] - 0s 7ms/step - loss: 21.5461 - mse: 21.5461 - mae: 3.3128 - val_loss: 35.0863 - val_mse: 35.0863 - val_mae: 3.9728\n",
      "Epoch 8/80\n",
      "17/17 [==============================] - 0s 6ms/step - loss: 18.9542 - mse: 18.9542 - mae: 3.1063 - val_loss: 32.5467 - val_mse: 32.5467 - val_mae: 3.7706\n",
      "Epoch 9/80\n",
      "17/17 [==============================] - 0s 6ms/step - loss: 16.8476 - mse: 16.8476 - mae: 2.9548 - val_loss: 29.3180 - val_mse: 29.3180 - val_mae: 3.6068\n",
      "Epoch 10/80\n",
      "17/17 [==============================] - 0s 6ms/step - loss: 15.5091 - mse: 15.5091 - mae: 2.8521 - val_loss: 27.2072 - val_mse: 27.2072 - val_mae: 3.4361\n",
      "Epoch 11/80\n",
      "17/17 [==============================] - 0s 6ms/step - loss: 14.0824 - mse: 14.0824 - mae: 2.7002 - val_loss: 26.1379 - val_mse: 26.1379 - val_mae: 3.3487\n",
      "Epoch 12/80\n",
      "17/17 [==============================] - 0s 6ms/step - loss: 13.0826 - mse: 13.0826 - mae: 2.6078 - val_loss: 23.9596 - val_mse: 23.9596 - val_mae: 3.2134\n",
      "Epoch 13/80\n",
      "17/17 [==============================] - 0s 7ms/step - loss: 12.2346 - mse: 12.2346 - mae: 2.5534 - val_loss: 22.4454 - val_mse: 22.4454 - val_mae: 3.0991\n",
      "Epoch 14/80\n",
      "17/17 [==============================] - 0s 6ms/step - loss: 11.5003 - mse: 11.5003 - mae: 2.4782 - val_loss: 21.9258 - val_mse: 21.9258 - val_mae: 3.0239\n",
      "Epoch 15/80\n",
      "17/17 [==============================] - 0s 6ms/step - loss: 10.9909 - mse: 10.9909 - mae: 2.4698 - val_loss: 21.0966 - val_mse: 21.0966 - val_mae: 2.9800\n",
      "Epoch 16/80\n",
      "17/17 [==============================] - 0s 7ms/step - loss: 10.4452 - mse: 10.4452 - mae: 2.3871 - val_loss: 20.5357 - val_mse: 20.5357 - val_mae: 2.9381\n",
      "Epoch 17/80\n",
      "17/17 [==============================] - 0s 8ms/step - loss: 9.9799 - mse: 9.9799 - mae: 2.3443 - val_loss: 19.1519 - val_mse: 19.1519 - val_mae: 2.8669\n",
      "Epoch 18/80\n",
      "17/17 [==============================] - 0s 8ms/step - loss: 9.5733 - mse: 9.5733 - mae: 2.3467 - val_loss: 18.6982 - val_mse: 18.6982 - val_mae: 2.8118\n",
      "Epoch 19/80\n",
      "17/17 [==============================] - 0s 7ms/step - loss: 9.1305 - mse: 9.1305 - mae: 2.2550 - val_loss: 18.3045 - val_mse: 18.3045 - val_mae: 2.8175\n",
      "Epoch 20/80\n",
      "17/17 [==============================] - 0s 6ms/step - loss: 8.8269 - mse: 8.8269 - mae: 2.2466 - val_loss: 17.7741 - val_mse: 17.7741 - val_mae: 2.7621\n",
      "Epoch 21/80\n",
      "17/17 [==============================] - 0s 4ms/step - loss: 8.7153 - mse: 8.7153 - mae: 2.2462 - val_loss: 17.9541 - val_mse: 17.9541 - val_mae: 2.7698\n",
      "Epoch 22/80\n",
      "17/17 [==============================] - 0s 6ms/step - loss: 8.4152 - mse: 8.4152 - mae: 2.1644 - val_loss: 17.6483 - val_mse: 17.6483 - val_mae: 2.7508\n",
      "Epoch 23/80\n",
      "17/17 [==============================] - 0s 7ms/step - loss: 8.0193 - mse: 8.0193 - mae: 2.1411 - val_loss: 17.0787 - val_mse: 17.0787 - val_mae: 2.7129\n",
      "Epoch 24/80\n",
      "17/17 [==============================] - 0s 6ms/step - loss: 8.1656 - mse: 8.1656 - mae: 2.1726 - val_loss: 16.8130 - val_mse: 16.8130 - val_mae: 2.7075\n",
      "Epoch 25/80\n",
      "17/17 [==============================] - 0s 7ms/step - loss: 7.8509 - mse: 7.8509 - mae: 2.1244 - val_loss: 16.6558 - val_mse: 16.6558 - val_mae: 2.6938\n",
      "Epoch 26/80\n",
      "17/17 [==============================] - 0s 4ms/step - loss: 7.7098 - mse: 7.7098 - mae: 2.0888 - val_loss: 16.8553 - val_mse: 16.8553 - val_mae: 2.7284\n",
      "Epoch 27/80\n",
      "17/17 [==============================] - 0s 6ms/step - loss: 7.6270 - mse: 7.6270 - mae: 2.1302 - val_loss: 16.3486 - val_mse: 16.3486 - val_mae: 2.6743\n",
      "Epoch 28/80\n",
      "17/17 [==============================] - 0s 4ms/step - loss: 7.6801 - mse: 7.6801 - mae: 2.0735 - val_loss: 16.4053 - val_mse: 16.4053 - val_mae: 2.6608\n",
      "Epoch 29/80\n",
      "17/17 [==============================] - 0s 3ms/step - loss: 7.3050 - mse: 7.3050 - mae: 2.0449 - val_loss: 16.6732 - val_mse: 16.6732 - val_mae: 2.6990\n",
      "Epoch 30/80\n",
      "17/17 [==============================] - 0s 6ms/step - loss: 7.0669 - mse: 7.0669 - mae: 1.9873 - val_loss: 15.9855 - val_mse: 15.9855 - val_mae: 2.6265\n",
      "Epoch 31/80\n",
      "17/17 [==============================] - 0s 6ms/step - loss: 7.0348 - mse: 7.0348 - mae: 2.0186 - val_loss: 15.9322 - val_mse: 15.9322 - val_mae: 2.6391\n",
      "Epoch 32/80\n",
      "17/17 [==============================] - 0s 4ms/step - loss: 6.8677 - mse: 6.8677 - mae: 1.9593 - val_loss: 16.0596 - val_mse: 16.0596 - val_mae: 2.6427\n",
      "Epoch 33/80\n",
      "17/17 [==============================] - 0s 8ms/step - loss: 6.7565 - mse: 6.7565 - mae: 1.9420 - val_loss: 15.7104 - val_mse: 15.7104 - val_mae: 2.5792\n",
      "Epoch 34/80\n",
      "17/17 [==============================] - 0s 4ms/step - loss: 6.7437 - mse: 6.7437 - mae: 1.9689 - val_loss: 15.7197 - val_mse: 15.7197 - val_mae: 2.5963\n",
      "Epoch 35/80\n",
      "17/17 [==============================] - 0s 4ms/step - loss: 6.7342 - mse: 6.7342 - mae: 1.9573 - val_loss: 15.7777 - val_mse: 15.7777 - val_mae: 2.6072\n",
      "Epoch 36/80\n",
      "17/17 [==============================] - 0s 4ms/step - loss: 6.4202 - mse: 6.4202 - mae: 1.9009 - val_loss: 15.7936 - val_mse: 15.7936 - val_mae: 2.6016\n",
      "Epoch 37/80\n",
      "17/17 [==============================] - 0s 7ms/step - loss: 6.3442 - mse: 6.3442 - mae: 1.8710 - val_loss: 15.6276 - val_mse: 15.6276 - val_mae: 2.5818\n",
      "Epoch 38/80\n",
      "17/17 [==============================] - 0s 6ms/step - loss: 6.3137 - mse: 6.3137 - mae: 1.8651 - val_loss: 15.4981 - val_mse: 15.4981 - val_mae: 2.5853\n",
      "Epoch 39/80\n",
      "17/17 [==============================] - 0s 4ms/step - loss: 6.3366 - mse: 6.3366 - mae: 1.8603 - val_loss: 15.5346 - val_mse: 15.5346 - val_mae: 2.5720\n",
      "Epoch 40/80\n",
      "17/17 [==============================] - 0s 6ms/step - loss: 6.6330 - mse: 6.6330 - mae: 1.8986 - val_loss: 15.3022 - val_mse: 15.3022 - val_mae: 2.5561\n",
      "Epoch 41/80\n",
      "17/17 [==============================] - 0s 4ms/step - loss: 6.0011 - mse: 6.0011 - mae: 1.8209 - val_loss: 15.3208 - val_mse: 15.3208 - val_mae: 2.5478\n",
      "Epoch 42/80\n",
      "17/17 [==============================] - 0s 4ms/step - loss: 6.2496 - mse: 6.2496 - mae: 1.8450 - val_loss: 15.5515 - val_mse: 15.5515 - val_mae: 2.5844\n",
      "Epoch 43/80\n",
      "17/17 [==============================] - 0s 6ms/step - loss: 5.9082 - mse: 5.9082 - mae: 1.7910 - val_loss: 15.1573 - val_mse: 15.1573 - val_mae: 2.5429\n",
      "Epoch 44/80\n",
      "17/17 [==============================] - 0s 8ms/step - loss: 5.9132 - mse: 5.9132 - mae: 1.8175 - val_loss: 15.0649 - val_mse: 15.0649 - val_mae: 2.5285\n",
      "Epoch 45/80\n",
      "17/17 [==============================] - 0s 4ms/step - loss: 6.1055 - mse: 6.1055 - mae: 1.8262 - val_loss: 15.8245 - val_mse: 15.8245 - val_mae: 2.7009\n",
      "Epoch 46/80\n",
      "17/17 [==============================] - 0s 7ms/step - loss: 5.9872 - mse: 5.9872 - mae: 1.8306 - val_loss: 14.8997 - val_mse: 14.8997 - val_mae: 2.5169\n",
      "Epoch 47/80\n",
      "17/17 [==============================] - 0s 5ms/step - loss: 5.9822 - mse: 5.9822 - mae: 1.7955 - val_loss: 15.1504 - val_mse: 15.1504 - val_mae: 2.5592\n",
      "Epoch 48/80\n",
      "17/17 [==============================] - 0s 4ms/step - loss: 5.7616 - mse: 5.7616 - mae: 1.7980 - val_loss: 15.1457 - val_mse: 15.1457 - val_mae: 2.5551\n",
      "Epoch 49/80\n",
      "17/17 [==============================] - 0s 4ms/step - loss: 5.6255 - mse: 5.6255 - mae: 1.7686 - val_loss: 15.2349 - val_mse: 15.2349 - val_mae: 2.5648\n",
      "Epoch 50/80\n",
      "17/17 [==============================] - 0s 3ms/step - loss: 5.5499 - mse: 5.5499 - mae: 1.7289 - val_loss: 14.9850 - val_mse: 14.9850 - val_mae: 2.5201\n",
      "Epoch 51/80\n",
      "17/17 [==============================] - 0s 6ms/step - loss: 5.4186 - mse: 5.4186 - mae: 1.7171 - val_loss: 14.8053 - val_mse: 14.8053 - val_mae: 2.4922\n",
      "Epoch 52/80\n",
      "17/17 [==============================] - 0s 4ms/step - loss: 5.3717 - mse: 5.3717 - mae: 1.7088 - val_loss: 15.0157 - val_mse: 15.0157 - val_mae: 2.5392\n",
      "Epoch 53/80\n",
      "17/17 [==============================] - 0s 5ms/step - loss: 5.3198 - mse: 5.3198 - mae: 1.6994 - val_loss: 14.7990 - val_mse: 14.7990 - val_mae: 2.5063\n",
      "Epoch 54/80\n",
      "17/17 [==============================] - 0s 7ms/step - loss: 5.3072 - mse: 5.3072 - mae: 1.6761 - val_loss: 14.7599 - val_mse: 14.7599 - val_mae: 2.4956\n",
      "Epoch 55/80\n",
      "17/17 [==============================] - 0s 7ms/step - loss: 5.2868 - mse: 5.2868 - mae: 1.6907 - val_loss: 14.7411 - val_mse: 14.7411 - val_mae: 2.5136\n",
      "Epoch 56/80\n",
      "17/17 [==============================] - 0s 7ms/step - loss: 5.3901 - mse: 5.3901 - mae: 1.7122 - val_loss: 14.5095 - val_mse: 14.5095 - val_mae: 2.4793\n",
      "Epoch 57/80\n",
      "17/17 [==============================] - 0s 3ms/step - loss: 5.5760 - mse: 5.5760 - mae: 1.7815 - val_loss: 16.1440 - val_mse: 16.1440 - val_mae: 2.7224\n",
      "Epoch 58/80\n",
      "17/17 [==============================] - 0s 4ms/step - loss: 5.4170 - mse: 5.4170 - mae: 1.7114 - val_loss: 14.5350 - val_mse: 14.5350 - val_mae: 2.4534\n",
      "Epoch 59/80\n",
      "17/17 [==============================] - 0s 4ms/step - loss: 5.0311 - mse: 5.0311 - mae: 1.6369 - val_loss: 15.5824 - val_mse: 15.5824 - val_mae: 2.6709\n",
      "Epoch 60/80\n",
      "17/17 [==============================] - 0s 3ms/step - loss: 5.0841 - mse: 5.0841 - mae: 1.7032 - val_loss: 14.6469 - val_mse: 14.6469 - val_mae: 2.5105\n",
      "Epoch 61/80\n",
      "17/17 [==============================] - 0s 6ms/step - loss: 5.0000 - mse: 5.0000 - mae: 1.6402 - val_loss: 14.0487 - val_mse: 14.0487 - val_mae: 2.4098\n",
      "Epoch 62/80\n",
      "17/17 [==============================] - 0s 3ms/step - loss: 4.9775 - mse: 4.9775 - mae: 1.6454 - val_loss: 15.1597 - val_mse: 15.1597 - val_mae: 2.6026\n",
      "Epoch 63/80\n",
      "17/17 [==============================] - 0s 3ms/step - loss: 4.9569 - mse: 4.9569 - mae: 1.6183 - val_loss: 14.7379 - val_mse: 14.7379 - val_mae: 2.4834\n",
      "Epoch 64/80\n",
      "17/17 [==============================] - 0s 4ms/step - loss: 4.8695 - mse: 4.8695 - mae: 1.6390 - val_loss: 14.1436 - val_mse: 14.1436 - val_mae: 2.4394\n",
      "Epoch 65/80\n",
      "17/17 [==============================] - 0s 3ms/step - loss: 4.8384 - mse: 4.8384 - mae: 1.6049 - val_loss: 14.3606 - val_mse: 14.3606 - val_mae: 2.4716\n",
      "Epoch 66/80\n",
      "17/17 [==============================] - 0s 4ms/step - loss: 4.6301 - mse: 4.6301 - mae: 1.5842 - val_loss: 14.3061 - val_mse: 14.3061 - val_mae: 2.4560\n",
      "Epoch 67/80\n",
      "17/17 [==============================] - 0s 4ms/step - loss: 4.6849 - mse: 4.6849 - mae: 1.5680 - val_loss: 14.4498 - val_mse: 14.4498 - val_mae: 2.4864\n",
      "Epoch 68/80\n",
      "17/17 [==============================] - 0s 3ms/step - loss: 4.7602 - mse: 4.7602 - mae: 1.6241 - val_loss: 14.1777 - val_mse: 14.1777 - val_mae: 2.4475\n",
      "Epoch 69/80\n",
      "17/17 [==============================] - 0s 4ms/step - loss: 4.9663 - mse: 4.9663 - mae: 1.6229 - val_loss: 14.0892 - val_mse: 14.0892 - val_mae: 2.4238\n",
      "Epoch 70/80\n",
      "17/17 [==============================] - 0s 3ms/step - loss: 4.4324 - mse: 4.4324 - mae: 1.5463 - val_loss: 14.3669 - val_mse: 14.3669 - val_mae: 2.4809\n",
      "Epoch 71/80\n",
      "17/17 [==============================] - 0s 6ms/step - loss: 4.4562 - mse: 4.4562 - mae: 1.5206 - val_loss: 13.9091 - val_mse: 13.9091 - val_mae: 2.4101\n",
      "Epoch 72/80\n",
      "17/17 [==============================] - 0s 4ms/step - loss: 4.4728 - mse: 4.4728 - mae: 1.5721 - val_loss: 15.1240 - val_mse: 15.1240 - val_mae: 2.6263\n",
      "Epoch 73/80\n",
      "17/17 [==============================] - 0s 4ms/step - loss: 4.6668 - mse: 4.6668 - mae: 1.5894 - val_loss: 14.0237 - val_mse: 14.0237 - val_mae: 2.4345\n",
      "Epoch 74/80\n",
      "17/17 [==============================] - 0s 6ms/step - loss: 4.2599 - mse: 4.2599 - mae: 1.4848 - val_loss: 13.8608 - val_mse: 13.8608 - val_mae: 2.4056\n",
      "Epoch 75/80\n",
      "17/17 [==============================] - 0s 4ms/step - loss: 4.2340 - mse: 4.2340 - mae: 1.4852 - val_loss: 13.9887 - val_mse: 13.9887 - val_mae: 2.4252\n",
      "Epoch 76/80\n",
      "17/17 [==============================] - 0s 4ms/step - loss: 4.1156 - mse: 4.1156 - mae: 1.4725 - val_loss: 13.8628 - val_mse: 13.8628 - val_mae: 2.4282\n",
      "Epoch 77/80\n",
      "17/17 [==============================] - 0s 4ms/step - loss: 4.1237 - mse: 4.1237 - mae: 1.4480 - val_loss: 14.3609 - val_mse: 14.3609 - val_mae: 2.4826\n",
      "Epoch 78/80\n",
      "17/17 [==============================] - 0s 6ms/step - loss: 4.1083 - mse: 4.1083 - mae: 1.4527 - val_loss: 13.8489 - val_mse: 13.8489 - val_mae: 2.4302\n",
      "Epoch 79/80\n",
      "17/17 [==============================] - 0s 3ms/step - loss: 4.1220 - mse: 4.1220 - mae: 1.4538 - val_loss: 14.0895 - val_mse: 14.0895 - val_mae: 2.4830\n",
      "Epoch 80/80\n",
      "17/17 [==============================] - 0s 3ms/step - loss: 4.1342 - mse: 4.1342 - mae: 1.4980 - val_loss: 13.9257 - val_mse: 13.9257 - val_mae: 2.4609\n"
     ]
    },
    {
     "data": {
      "text/plain": [
       "<tensorflow.python.keras.callbacks.History at 0x2556331e3c8>"
      ]
     },
     "execution_count": 50,
     "metadata": {},
     "output_type": "execute_result"
    },
    {
     "name": "stderr",
     "output_type": "stream",
     "text": [
      "Run pip install nbformat to save notebook history\n"
     ]
    }
   ],
   "source": [
    "wandb.init(project=wandb_project, entity=wandb_group) #Initializes and Experiment\n",
    "\n",
    "# Important Hyperparameters\n",
    "X =  x_train\n",
    "y =  y_train\n",
    "\n",
    "inputs = X.shape[1]\n",
    "wandb.config.epochs = 80\n",
    "wandb.config.batch_size = 16\n",
    "\n",
    "# Create Model\n",
    "model = Sequential()\n",
    "model.add(Dense(64, activation='relu', input_shape=(inputs,)))\n",
    "model.add(Dense(64, activation='relu'))\n",
    "model.add(Dense(64, activation='relu'))\n",
    "model.add(Dense(1))\n",
    "# Compile Model\n",
    "model.compile(optimizer=Opt_function, loss='mse', metrics=['mse', 'mae'])\n",
    "\n",
    "# Fit Model\n",
    "model.fit(X, y, \n",
    "          validation_split=0.33, \n",
    "          epochs=wandb.config.epochs, \n",
    "          batch_size=wandb.config.batch_size, \n",
    "          callbacks=[WandbCallback()]\n",
    "         )"
   ]
  },
  {
   "cell_type": "markdown",
   "metadata": {},
   "source": [
    "### Your Turn\n",
    "\n",
    "Pick a few hyparameters that we *have not* tuned. Using the same code above, try changing a few parameters you're interested in and submitting the results to weights & biases. :) "
   ]
  },
  {
   "cell_type": "code",
   "execution_count": 51,
   "metadata": {},
   "outputs": [
    {
     "ename": "NameError",
     "evalue": "name 'wand_group' is not defined",
     "output_type": "error",
     "traceback": [
      "\u001b[1;31m---------------------------------------------------------------------------\u001b[0m",
      "\u001b[1;31mNameError\u001b[0m                                 Traceback (most recent call last)",
      "\u001b[1;32m<ipython-input-51-bc70ce679462>\u001b[0m in \u001b[0;36m<module>\u001b[1;34m\u001b[0m\n\u001b[1;32m----> 1\u001b[1;33m \u001b[0mwandb\u001b[0m\u001b[1;33m.\u001b[0m\u001b[0minit\u001b[0m\u001b[1;33m(\u001b[0m\u001b[0mproject\u001b[0m\u001b[1;33m=\u001b[0m\u001b[0mwandb_project\u001b[0m\u001b[1;33m,\u001b[0m \u001b[0mentity\u001b[0m\u001b[1;33m=\u001b[0m\u001b[0mwand_group\u001b[0m\u001b[1;33m)\u001b[0m \u001b[1;31m#Initializes and Experiment\u001b[0m\u001b[1;33m\u001b[0m\u001b[0m\n\u001b[0m\u001b[0;32m      2\u001b[0m \u001b[1;33m\u001b[0m\u001b[0m\n\u001b[0;32m      3\u001b[0m \u001b[0mwandb\u001b[0m\u001b[1;33m.\u001b[0m\u001b[0mconfig\u001b[0m\u001b[1;33m.\u001b[0m\u001b[0mepochs\u001b[0m \u001b[1;33m=\u001b[0m \u001b[1;36m50\u001b[0m\u001b[1;33m\u001b[0m\u001b[0m\n\u001b[0;32m      4\u001b[0m \u001b[0mwandb\u001b[0m\u001b[1;33m.\u001b[0m\u001b[0mconfig\u001b[0m\u001b[1;33m.\u001b[0m\u001b[0mbatch_size\u001b[0m \u001b[1;33m=\u001b[0m \u001b[1;36m10\u001b[0m\u001b[1;33m\u001b[0m\u001b[0m\n\u001b[0;32m      5\u001b[0m \u001b[1;33m\u001b[0m\u001b[0m\n",
      "\u001b[1;31mNameError\u001b[0m: name 'wand_group' is not defined"
     ]
    }
   ],
   "source": [
    "wandb.init(project=wandb_project, entity=wand_group) #Initializes and Experiment\n",
    "\n",
    "wandb.config.epochs = 50\n",
    "wandb.config.batch_size = 10\n",
    "\n",
    "\n",
    "# Fit Model\n",
    "model.fit(\n",
    "          callbacks=[WandbCallback()]\n",
    "         )"
   ]
  },
  {
   "cell_type": "markdown",
   "metadata": {},
   "source": [
    "## Challenge\n",
    "\n",
    "You will be expected to use Weights & Biases to try to tune your model during your module assignment today. "
   ]
  },
  {
   "cell_type": "markdown",
   "metadata": {},
   "source": [
    "# Hyperparameters with RandomSearchCV (Learn)"
   ]
  },
  {
   "cell_type": "markdown",
   "metadata": {},
   "source": [
    "## Overview\n",
    "\n",
    "Basically `GridSearchCV` takes forever. You'll want to adopt a slightly more sophiscated strategy.\n",
    "\n",
    "Let's also take a look at an alternative with Keras-Tuner."
   ]
  },
  {
   "cell_type": "markdown",
   "metadata": {},
   "source": [
    "## Follow Along"
   ]
  },
  {
   "cell_type": "code",
   "execution_count": null,
   "metadata": {},
   "outputs": [],
   "source": [
    "!pip install keras-tuner"
   ]
  },
  {
   "cell_type": "code",
   "execution_count": null,
   "metadata": {},
   "outputs": [],
   "source": [
    "from tensorflow import keras\n",
    "from tensorflow.keras import layers\n",
    "from kerastuner.tuners import RandomSearch\n",
    "\n",
    "\"\"\"\n",
    "This model Tunes:\n",
    "- Number of Neurons in the Hidden Layer\n",
    "- Learning Rate in Adam\n",
    "\n",
    "\"\"\"\n",
    "\n",
    "def build_model(hp):\n",
    "    model = keras.Sequential()\n",
    "    model.add(layers.Dense(units=hp.Int('units',\n",
    "                                        min_value=32,\n",
    "                                        max_value=512,\n",
    "                                        step=32),\n",
    "                           activation='relu'))\n",
    "    model.add(layers.Dense(10, activation='softmax'))\n",
    "    model.compile(\n",
    "        optimizer=keras.optimizers.Adam(\n",
    "            hp.Choice('learning_rate',\n",
    "                      values=[1e-2, 1e-3, 1e-4])),\n",
    "        loss='sparse_categorical_crossentropy',\n",
    "        metrics=['accuracy'])\n",
    "    \n",
    "    return model"
   ]
  },
  {
   "cell_type": "code",
   "execution_count": null,
   "metadata": {},
   "outputs": [],
   "source": [
    "tuner = RandomSearch(\n",
    "    build_model,\n",
    "    objective='val_accuracy',\n",
    "    max_trials=5,\n",
    "    executions_per_trial=3,\n",
    "    directory='./keras-tuner-trial',\n",
    "    project_name='helloworld')"
   ]
  },
  {
   "cell_type": "code",
   "execution_count": null,
   "metadata": {},
   "outputs": [],
   "source": [
    "tuner.search_space_summary()"
   ]
  },
  {
   "cell_type": "code",
   "execution_count": null,
   "metadata": {},
   "outputs": [],
   "source": [
    "tuner.search(x, y,\n",
    "             epochs=5,\n",
    "             validation_data=(val_x, val_y))"
   ]
  },
  {
   "cell_type": "code",
   "execution_count": null,
   "metadata": {},
   "outputs": [],
   "source": [
    "tuner.results_summary()"
   ]
  },
  {
   "cell_type": "markdown",
   "metadata": {},
   "source": [
    "## Challenge\n",
    "\n",
    "Try to apply RandomSearchCV to your module project today. "
   ]
  },
  {
   "cell_type": "markdown",
   "metadata": {},
   "source": [
    "# Review\n",
    "* <a href=\"#p1\">Part 1</a>: Describe the major hyperparemeters to tune\n",
    "    - Activation Functions\n",
    "    - Optimizer\n",
    "    - Number of Layers\n",
    "    - Number of Neurons\n",
    "    - Batch Size\n",
    "    - Dropout Regulaization\n",
    "    - Learning Rate\n",
    "    - Number of Epochs\n",
    "    - and many more\n",
    "* <a href=\"#p2\">Part 2</a>: Implement an experiment tracking framework\n",
    "    - Weights & Biases\n",
    "    - Comet.ml\n",
    "    - By Hand / GridSearch\n",
    "* <a href=\"#p3\">Part 3</a>: Search the hyperparameter space using RandomSearch\n",
    "    - Sklearn still useful (haha)\n",
    "    - Integration with Wieghts & Biases\n",
    "* <a href=\"#p4\">Part 4</a>: Discuss emerging hyperparameter tuning strategies\n",
    "    - Bayesian Optimization\n",
    "    - Hyperopt\n",
    "    - Genetic Evolution"
   ]
  },
  {
   "cell_type": "markdown",
   "metadata": {},
   "source": [
    "# Sources"
   ]
  },
  {
   "cell_type": "markdown",
   "metadata": {},
   "source": [
    "## Additional Reading\n",
    "- https://machinelearningmastery.com/grid-search-hyperparameters-deep-learning-models-python-keras/\n",
    "- https://blog.floydhub.com/guide-to-hyperparameters-search-for-deep-learning-models/\n",
    "- https://machinelearningmastery.com/dropout-regularization-deep-learning-models-keras/\n",
    "- https://machinelearningmastery.com/introduction-to-weight-constraints-to-reduce-generalization-error-in-deep-learning/\n",
    "- https://machinelearningmastery.com/how-to-configure-the-number-of-layers-and-nodes-in-a-neural-network/"
   ]
  }
 ],
 "metadata": {
  "kernelspec": {
   "display_name": "U4-S2-Neural-Networks (Python3)",
   "language": "python",
   "name": "u4-s2-neural-networks"
  },
  "language_info": {
   "codemirror_mode": {
    "name": "ipython",
    "version": 3
   },
   "file_extension": ".py",
   "mimetype": "text/x-python",
   "name": "python",
   "nbconvert_exporter": "python",
   "pygments_lexer": "ipython3",
   "version": "3.7.0"
  }
 },
 "nbformat": 4,
 "nbformat_minor": 4
}
